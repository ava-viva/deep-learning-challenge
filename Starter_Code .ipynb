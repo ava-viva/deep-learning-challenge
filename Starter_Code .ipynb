{
  "cells": [
    {
      "cell_type": "markdown",
      "metadata": {
        "id": "3SBCy4Vt1fVY"
      },
      "source": [
        "## Preprocessing"
      ]
    },
    {
      "cell_type": "code",
      "execution_count": 66,
      "metadata": {
        "colab": {
          "base_uri": "https://localhost:8080/",
          "height": 495
        },
        "id": "T3bPZkBi1fVa",
        "outputId": "7c1ac588-9372-45e7-e112-c3232083b9df"
      },
      "outputs": [
        {
          "output_type": "execute_result",
          "data": {
            "text/plain": [
              "        EIN                                      NAME APPLICATION_TYPE  \\\n",
              "0  10520599              BLUE KNIGHTS MOTORCYCLE CLUB              T10   \n",
              "1  10531628    AMERICAN CHESAPEAKE CLUB CHARITABLE TR               T3   \n",
              "2  10547893        ST CLOUD PROFESSIONAL FIREFIGHTERS               T5   \n",
              "3  10553066            SOUTHSIDE ATHLETIC ASSOCIATION               T3   \n",
              "4  10556103  GENETIC RESEARCH INSTITUTE OF THE DESERT               T3   \n",
              "\n",
              "        AFFILIATION CLASSIFICATION      USE_CASE  ORGANIZATION  STATUS  \\\n",
              "0       Independent          C1000    ProductDev   Association       1   \n",
              "1       Independent          C2000  Preservation  Co-operative       1   \n",
              "2  CompanySponsored          C3000    ProductDev   Association       1   \n",
              "3  CompanySponsored          C2000  Preservation         Trust       1   \n",
              "4       Independent          C1000     Heathcare         Trust       1   \n",
              "\n",
              "      INCOME_AMT SPECIAL_CONSIDERATIONS  ASK_AMT  IS_SUCCESSFUL  \n",
              "0              0                      N     5000              1  \n",
              "1         1-9999                      N   108590              1  \n",
              "2              0                      N     5000              0  \n",
              "3    10000-24999                      N     6692              1  \n",
              "4  100000-499999                      N   142590              1  "
            ],
            "text/html": [
              "\n",
              "\n",
              "  <div id=\"df-e01bf3b2-d8a9-4e23-8890-a5fcc6b5ffc4\">\n",
              "    <div class=\"colab-df-container\">\n",
              "      <div>\n",
              "<style scoped>\n",
              "    .dataframe tbody tr th:only-of-type {\n",
              "        vertical-align: middle;\n",
              "    }\n",
              "\n",
              "    .dataframe tbody tr th {\n",
              "        vertical-align: top;\n",
              "    }\n",
              "\n",
              "    .dataframe thead th {\n",
              "        text-align: right;\n",
              "    }\n",
              "</style>\n",
              "<table border=\"1\" class=\"dataframe\">\n",
              "  <thead>\n",
              "    <tr style=\"text-align: right;\">\n",
              "      <th></th>\n",
              "      <th>EIN</th>\n",
              "      <th>NAME</th>\n",
              "      <th>APPLICATION_TYPE</th>\n",
              "      <th>AFFILIATION</th>\n",
              "      <th>CLASSIFICATION</th>\n",
              "      <th>USE_CASE</th>\n",
              "      <th>ORGANIZATION</th>\n",
              "      <th>STATUS</th>\n",
              "      <th>INCOME_AMT</th>\n",
              "      <th>SPECIAL_CONSIDERATIONS</th>\n",
              "      <th>ASK_AMT</th>\n",
              "      <th>IS_SUCCESSFUL</th>\n",
              "    </tr>\n",
              "  </thead>\n",
              "  <tbody>\n",
              "    <tr>\n",
              "      <th>0</th>\n",
              "      <td>10520599</td>\n",
              "      <td>BLUE KNIGHTS MOTORCYCLE CLUB</td>\n",
              "      <td>T10</td>\n",
              "      <td>Independent</td>\n",
              "      <td>C1000</td>\n",
              "      <td>ProductDev</td>\n",
              "      <td>Association</td>\n",
              "      <td>1</td>\n",
              "      <td>0</td>\n",
              "      <td>N</td>\n",
              "      <td>5000</td>\n",
              "      <td>1</td>\n",
              "    </tr>\n",
              "    <tr>\n",
              "      <th>1</th>\n",
              "      <td>10531628</td>\n",
              "      <td>AMERICAN CHESAPEAKE CLUB CHARITABLE TR</td>\n",
              "      <td>T3</td>\n",
              "      <td>Independent</td>\n",
              "      <td>C2000</td>\n",
              "      <td>Preservation</td>\n",
              "      <td>Co-operative</td>\n",
              "      <td>1</td>\n",
              "      <td>1-9999</td>\n",
              "      <td>N</td>\n",
              "      <td>108590</td>\n",
              "      <td>1</td>\n",
              "    </tr>\n",
              "    <tr>\n",
              "      <th>2</th>\n",
              "      <td>10547893</td>\n",
              "      <td>ST CLOUD PROFESSIONAL FIREFIGHTERS</td>\n",
              "      <td>T5</td>\n",
              "      <td>CompanySponsored</td>\n",
              "      <td>C3000</td>\n",
              "      <td>ProductDev</td>\n",
              "      <td>Association</td>\n",
              "      <td>1</td>\n",
              "      <td>0</td>\n",
              "      <td>N</td>\n",
              "      <td>5000</td>\n",
              "      <td>0</td>\n",
              "    </tr>\n",
              "    <tr>\n",
              "      <th>3</th>\n",
              "      <td>10553066</td>\n",
              "      <td>SOUTHSIDE ATHLETIC ASSOCIATION</td>\n",
              "      <td>T3</td>\n",
              "      <td>CompanySponsored</td>\n",
              "      <td>C2000</td>\n",
              "      <td>Preservation</td>\n",
              "      <td>Trust</td>\n",
              "      <td>1</td>\n",
              "      <td>10000-24999</td>\n",
              "      <td>N</td>\n",
              "      <td>6692</td>\n",
              "      <td>1</td>\n",
              "    </tr>\n",
              "    <tr>\n",
              "      <th>4</th>\n",
              "      <td>10556103</td>\n",
              "      <td>GENETIC RESEARCH INSTITUTE OF THE DESERT</td>\n",
              "      <td>T3</td>\n",
              "      <td>Independent</td>\n",
              "      <td>C1000</td>\n",
              "      <td>Heathcare</td>\n",
              "      <td>Trust</td>\n",
              "      <td>1</td>\n",
              "      <td>100000-499999</td>\n",
              "      <td>N</td>\n",
              "      <td>142590</td>\n",
              "      <td>1</td>\n",
              "    </tr>\n",
              "  </tbody>\n",
              "</table>\n",
              "</div>\n",
              "      <button class=\"colab-df-convert\" onclick=\"convertToInteractive('df-e01bf3b2-d8a9-4e23-8890-a5fcc6b5ffc4')\"\n",
              "              title=\"Convert this dataframe to an interactive table.\"\n",
              "              style=\"display:none;\">\n",
              "\n",
              "  <svg xmlns=\"http://www.w3.org/2000/svg\" height=\"24px\"viewBox=\"0 0 24 24\"\n",
              "       width=\"24px\">\n",
              "    <path d=\"M0 0h24v24H0V0z\" fill=\"none\"/>\n",
              "    <path d=\"M18.56 5.44l.94 2.06.94-2.06 2.06-.94-2.06-.94-.94-2.06-.94 2.06-2.06.94zm-11 1L8.5 8.5l.94-2.06 2.06-.94-2.06-.94L8.5 2.5l-.94 2.06-2.06.94zm10 10l.94 2.06.94-2.06 2.06-.94-2.06-.94-.94-2.06-.94 2.06-2.06.94z\"/><path d=\"M17.41 7.96l-1.37-1.37c-.4-.4-.92-.59-1.43-.59-.52 0-1.04.2-1.43.59L10.3 9.45l-7.72 7.72c-.78.78-.78 2.05 0 2.83L4 21.41c.39.39.9.59 1.41.59.51 0 1.02-.2 1.41-.59l7.78-7.78 2.81-2.81c.8-.78.8-2.07 0-2.86zM5.41 20L4 18.59l7.72-7.72 1.47 1.35L5.41 20z\"/>\n",
              "  </svg>\n",
              "      </button>\n",
              "\n",
              "\n",
              "\n",
              "    <div id=\"df-b7d0a636-ce24-4ec5-9cde-49c6cefd6ac9\">\n",
              "      <button class=\"colab-df-quickchart\" onclick=\"quickchart('df-b7d0a636-ce24-4ec5-9cde-49c6cefd6ac9')\"\n",
              "              title=\"Suggest charts.\"\n",
              "              style=\"display:none;\">\n",
              "\n",
              "<svg xmlns=\"http://www.w3.org/2000/svg\" height=\"24px\"viewBox=\"0 0 24 24\"\n",
              "     width=\"24px\">\n",
              "    <g>\n",
              "        <path d=\"M19 3H5c-1.1 0-2 .9-2 2v14c0 1.1.9 2 2 2h14c1.1 0 2-.9 2-2V5c0-1.1-.9-2-2-2zM9 17H7v-7h2v7zm4 0h-2V7h2v10zm4 0h-2v-4h2v4z\"/>\n",
              "    </g>\n",
              "</svg>\n",
              "      </button>\n",
              "    </div>\n",
              "\n",
              "<style>\n",
              "  .colab-df-quickchart {\n",
              "    background-color: #E8F0FE;\n",
              "    border: none;\n",
              "    border-radius: 50%;\n",
              "    cursor: pointer;\n",
              "    display: none;\n",
              "    fill: #1967D2;\n",
              "    height: 32px;\n",
              "    padding: 0 0 0 0;\n",
              "    width: 32px;\n",
              "  }\n",
              "\n",
              "  .colab-df-quickchart:hover {\n",
              "    background-color: #E2EBFA;\n",
              "    box-shadow: 0px 1px 2px rgba(60, 64, 67, 0.3), 0px 1px 3px 1px rgba(60, 64, 67, 0.15);\n",
              "    fill: #174EA6;\n",
              "  }\n",
              "\n",
              "  [theme=dark] .colab-df-quickchart {\n",
              "    background-color: #3B4455;\n",
              "    fill: #D2E3FC;\n",
              "  }\n",
              "\n",
              "  [theme=dark] .colab-df-quickchart:hover {\n",
              "    background-color: #434B5C;\n",
              "    box-shadow: 0px 1px 3px 1px rgba(0, 0, 0, 0.15);\n",
              "    filter: drop-shadow(0px 1px 2px rgba(0, 0, 0, 0.3));\n",
              "    fill: #FFFFFF;\n",
              "  }\n",
              "</style>\n",
              "\n",
              "    <script>\n",
              "      async function quickchart(key) {\n",
              "        const containerElement = document.querySelector('#' + key);\n",
              "        const charts = await google.colab.kernel.invokeFunction(\n",
              "            'suggestCharts', [key], {});\n",
              "      }\n",
              "    </script>\n",
              "\n",
              "      <script>\n",
              "\n",
              "function displayQuickchartButton(domScope) {\n",
              "  let quickchartButtonEl =\n",
              "    domScope.querySelector('#df-b7d0a636-ce24-4ec5-9cde-49c6cefd6ac9 button.colab-df-quickchart');\n",
              "  quickchartButtonEl.style.display =\n",
              "    google.colab.kernel.accessAllowed ? 'block' : 'none';\n",
              "}\n",
              "\n",
              "        displayQuickchartButton(document);\n",
              "      </script>\n",
              "      <style>\n",
              "    .colab-df-container {\n",
              "      display:flex;\n",
              "      flex-wrap:wrap;\n",
              "      gap: 12px;\n",
              "    }\n",
              "\n",
              "    .colab-df-convert {\n",
              "      background-color: #E8F0FE;\n",
              "      border: none;\n",
              "      border-radius: 50%;\n",
              "      cursor: pointer;\n",
              "      display: none;\n",
              "      fill: #1967D2;\n",
              "      height: 32px;\n",
              "      padding: 0 0 0 0;\n",
              "      width: 32px;\n",
              "    }\n",
              "\n",
              "    .colab-df-convert:hover {\n",
              "      background-color: #E2EBFA;\n",
              "      box-shadow: 0px 1px 2px rgba(60, 64, 67, 0.3), 0px 1px 3px 1px rgba(60, 64, 67, 0.15);\n",
              "      fill: #174EA6;\n",
              "    }\n",
              "\n",
              "    [theme=dark] .colab-df-convert {\n",
              "      background-color: #3B4455;\n",
              "      fill: #D2E3FC;\n",
              "    }\n",
              "\n",
              "    [theme=dark] .colab-df-convert:hover {\n",
              "      background-color: #434B5C;\n",
              "      box-shadow: 0px 1px 3px 1px rgba(0, 0, 0, 0.15);\n",
              "      filter: drop-shadow(0px 1px 2px rgba(0, 0, 0, 0.3));\n",
              "      fill: #FFFFFF;\n",
              "    }\n",
              "  </style>\n",
              "\n",
              "      <script>\n",
              "        const buttonEl =\n",
              "          document.querySelector('#df-e01bf3b2-d8a9-4e23-8890-a5fcc6b5ffc4 button.colab-df-convert');\n",
              "        buttonEl.style.display =\n",
              "          google.colab.kernel.accessAllowed ? 'block' : 'none';\n",
              "\n",
              "        async function convertToInteractive(key) {\n",
              "          const element = document.querySelector('#df-e01bf3b2-d8a9-4e23-8890-a5fcc6b5ffc4');\n",
              "          const dataTable =\n",
              "            await google.colab.kernel.invokeFunction('convertToInteractive',\n",
              "                                                     [key], {});\n",
              "          if (!dataTable) return;\n",
              "\n",
              "          const docLinkHtml = 'Like what you see? Visit the ' +\n",
              "            '<a target=\"_blank\" href=https://colab.research.google.com/notebooks/data_table.ipynb>data table notebook</a>'\n",
              "            + ' to learn more about interactive tables.';\n",
              "          element.innerHTML = '';\n",
              "          dataTable['output_type'] = 'display_data';\n",
              "          await google.colab.output.renderOutput(dataTable, element);\n",
              "          const docLink = document.createElement('div');\n",
              "          docLink.innerHTML = docLinkHtml;\n",
              "          element.appendChild(docLink);\n",
              "        }\n",
              "      </script>\n",
              "    </div>\n",
              "  </div>\n"
            ]
          },
          "metadata": {},
          "execution_count": 66
        }
      ],
      "source": [
        "# Import our dependencies\n",
        "from sklearn.model_selection import train_test_split\n",
        "from sklearn.preprocessing import StandardScaler\n",
        "import pandas as pd\n",
        "import tensorflow as tf\n",
        "\n",
        "#  Import and read the charity_data.csv.\n",
        "import pandas as pd\n",
        "application_df = pd.read_csv(\"https://static.bc-edx.com/data/dl-1-2/m21/lms/starter/charity_data.csv\")\n",
        "application_df.head()"
      ]
    },
    {
      "cell_type": "code",
      "execution_count": 67,
      "metadata": {
        "id": "Xm0n0jwl1fVb"
      },
      "outputs": [],
      "source": [
        "# Drop the non-beneficial ID columns, 'EIN' and 'NAME'.\n",
        "#  YOUR CODE GOES HERE\n",
        "df=application_df.drop(columns = ['EIN', 'NAME'])"
      ]
    },
    {
      "cell_type": "code",
      "execution_count": 68,
      "metadata": {
        "colab": {
          "base_uri": "https://localhost:8080/"
        },
        "id": "lBKR3xmr1fVc",
        "outputId": "aa202c64-5885-4d53-d07d-fd995b9a63a2"
      },
      "outputs": [
        {
          "output_type": "execute_result",
          "data": {
            "text/plain": [
              "APPLICATION_TYPE            17\n",
              "AFFILIATION                  6\n",
              "CLASSIFICATION              71\n",
              "USE_CASE                     5\n",
              "ORGANIZATION                 4\n",
              "STATUS                       2\n",
              "INCOME_AMT                   9\n",
              "SPECIAL_CONSIDERATIONS       2\n",
              "ASK_AMT                   8747\n",
              "IS_SUCCESSFUL                2\n",
              "dtype: int64"
            ]
          },
          "metadata": {},
          "execution_count": 68
        }
      ],
      "source": [
        "# Determine the number of unique values in each column.\n",
        "#  YOUR CODE GOES HERE\n",
        "df.nunique()"
      ]
    },
    {
      "cell_type": "code",
      "execution_count": 69,
      "metadata": {
        "colab": {
          "base_uri": "https://localhost:8080/"
        },
        "id": "UnnRfZbI1fVd",
        "outputId": "472980cf-a4dc-4eee-b159-0e47599b666c"
      },
      "outputs": [
        {
          "output_type": "execute_result",
          "data": {
            "text/plain": [
              "T3     27037\n",
              "T4      1542\n",
              "T6      1216\n",
              "T5      1173\n",
              "T19     1065\n",
              "T8       737\n",
              "T7       725\n",
              "T10      528\n",
              "T9       156\n",
              "T13       66\n",
              "T12       27\n",
              "T2        16\n",
              "T25        3\n",
              "T14        3\n",
              "T29        2\n",
              "T15        2\n",
              "T17        1\n",
              "Name: APPLICATION_TYPE, dtype: int64"
            ]
          },
          "metadata": {},
          "execution_count": 69
        }
      ],
      "source": [
        "# Look at APPLICATION_TYPE value counts for binning\n",
        "#  YOUR CODE GOES HERE\n",
        "app_types = df['APPLICATION_TYPE'].value_counts()\n",
        "app_types"
      ]
    },
    {
      "cell_type": "code",
      "execution_count": 70,
      "metadata": {
        "colab": {
          "base_uri": "https://localhost:8080/"
        },
        "id": "sgP7lSBo1fVd",
        "outputId": "d3dcf019-5c8c-4e82-a6cb-524d0a44618d"
      },
      "outputs": [
        {
          "output_type": "execute_result",
          "data": {
            "text/plain": [
              "T3           27037\n",
              "Remaining     2266\n",
              "T4            1542\n",
              "T6            1216\n",
              "T5            1173\n",
              "T19           1065\n",
              "Name: APPLICATION_TYPE, dtype: int64"
            ]
          },
          "metadata": {},
          "execution_count": 70
        }
      ],
      "source": [
        "# Choose a cutoff value and create a list of application types to be replaced\n",
        "# use the variable name `application_types_to_replace`\n",
        "#  YOUR CODE GOES HERE\n",
        "application_types_to_replace = list(app_types[app_types<1000].index)\n",
        "# Replace in dataframe\n",
        "for app in application_types_to_replace:\n",
        "    df['APPLICATION_TYPE'] = df['APPLICATION_TYPE'].replace(app,\"Remaining\")\n",
        "\n",
        "# Check to make sure binning was successful\n",
        "df['APPLICATION_TYPE'].value_counts()"
      ]
    },
    {
      "cell_type": "code",
      "execution_count": 71,
      "metadata": {
        "colab": {
          "base_uri": "https://localhost:8080/"
        },
        "id": "c7_CtdmS1fVd",
        "outputId": "b1767077-b64b-490d-a19c-d4dda8207e04"
      },
      "outputs": [
        {
          "output_type": "execute_result",
          "data": {
            "text/plain": [
              "C1000    17326\n",
              "C2000     6074\n",
              "C1200     4837\n",
              "C3000     1918\n",
              "C2100     1883\n",
              "         ...  \n",
              "C4120        1\n",
              "C8210        1\n",
              "C2561        1\n",
              "C4500        1\n",
              "C2150        1\n",
              "Name: CLASSIFICATION, Length: 71, dtype: int64"
            ]
          },
          "metadata": {},
          "execution_count": 71
        }
      ],
      "source": [
        "# Look at CLASSIFICATION value counts for binning\n",
        "#  YOUR CODE GOES HERE\n",
        "categories=application_df['CLASSIFICATION'].value_counts()\n",
        "categories"
      ]
    },
    {
      "cell_type": "code",
      "execution_count": 72,
      "metadata": {
        "colab": {
          "base_uri": "https://localhost:8080/"
        },
        "id": "qUFnUkte1fVe",
        "outputId": "fa665a4d-d67d-43e1-b1e1-f928fcc9c57d"
      },
      "outputs": [
        {
          "output_type": "execute_result",
          "data": {
            "text/plain": [
              "C1000    17326\n",
              "C2000     6074\n",
              "C1200     4837\n",
              "C3000     1918\n",
              "C2100     1883\n",
              "C7000      777\n",
              "C1700      287\n",
              "C4000      194\n",
              "C5000      116\n",
              "C1270      114\n",
              "C2700      104\n",
              "C2800       95\n",
              "C7100       75\n",
              "C1300       58\n",
              "C1280       50\n",
              "C1230       36\n",
              "C1400       34\n",
              "C7200       32\n",
              "C2300       32\n",
              "C1240       30\n",
              "C8000       20\n",
              "C7120       18\n",
              "C1500       16\n",
              "C1800       15\n",
              "C6000       15\n",
              "C1250       14\n",
              "C8200       11\n",
              "C1238       10\n",
              "C1278       10\n",
              "C1235        9\n",
              "C1237        9\n",
              "C7210        7\n",
              "C2400        6\n",
              "C1720        6\n",
              "C4100        6\n",
              "C1257        5\n",
              "C1600        5\n",
              "C1260        3\n",
              "C2710        3\n",
              "C0           3\n",
              "C3200        2\n",
              "C1234        2\n",
              "C1246        2\n",
              "C1267        2\n",
              "C1256        2\n",
              "Name: CLASSIFICATION, dtype: int64"
            ]
          },
          "metadata": {},
          "execution_count": 72
        }
      ],
      "source": [
        "# You may find it helpful to look at CLASSIFICATION value counts >1\n",
        "#  YOUR CODE GOES HERE\n",
        "c_category = categories.loc[categories > 1]\n",
        "c_category"
      ]
    },
    {
      "cell_type": "code",
      "execution_count": 73,
      "metadata": {
        "colab": {
          "base_uri": "https://localhost:8080/"
        },
        "id": "Bk_gNBSe1fVe",
        "outputId": "d2036003-896a-4659-ca3a-e0e19a441f14"
      },
      "outputs": [
        {
          "output_type": "execute_result",
          "data": {
            "text/plain": [
              "C1000        17326\n",
              "C2000         6074\n",
              "C1200         4837\n",
              "Remaining     2235\n",
              "C3000         1918\n",
              "C2100         1883\n",
              "C1370            1\n",
              "C1236            1\n",
              "C2190            1\n",
              "C4200            1\n",
              "C5200            1\n",
              "C1248            1\n",
              "C2600            1\n",
              "C1580            1\n",
              "C6100            1\n",
              "C1820            1\n",
              "C1900            1\n",
              "C2570            1\n",
              "C1570            1\n",
              "C3700            1\n",
              "C2500            1\n",
              "C1283            1\n",
              "C2380            1\n",
              "C1732            1\n",
              "C1728            1\n",
              "C2170            1\n",
              "C4120            1\n",
              "C8210            1\n",
              "C4500            1\n",
              "C1245            1\n",
              "C2561            1\n",
              "C2150            1\n",
              "Name: CLASSIFICATION, dtype: int64"
            ]
          },
          "metadata": {},
          "execution_count": 73
        }
      ],
      "source": [
        "# Choose a cutoff value and create a list of classifications to be replaced\n",
        "# use the variable name `classifications_to_replace`\n",
        "#  YOUR CODE GOES HERE\n",
        "classifications_to_replace = list(c_category [c_category <1000].index)\n",
        "# Replace in dataframe\n",
        "for classes in classifications_to_replace:\n",
        "    df['CLASSIFICATION'] = df['CLASSIFICATION'].replace(classes,\"Remaining\")\n",
        "\n",
        "# Check to make sure binning was successful\n",
        "df['CLASSIFICATION'].value_counts()"
      ]
    },
    {
      "cell_type": "code",
      "execution_count": 74,
      "metadata": {
        "id": "8as0PFNg1fVe"
      },
      "outputs": [],
      "source": [
        "# Convert categorical data to numeric with `pd.get_dummies`\n",
        "#  YOUR CODE GOES HERE\n",
        "dummies_df = pd.get_dummies(df)"
      ]
    },
    {
      "cell_type": "code",
      "execution_count": 75,
      "metadata": {
        "id": "g5Nu2Ulz1fVf"
      },
      "outputs": [],
      "source": [
        "# Split our preprocessed data into our features and target arrays\n",
        "#  YOUR CODE GOES HERE\n",
        "y = dummies_df['IS_SUCCESSFUL'].values\n",
        "X = dummies_df.drop(columns='IS_SUCCESSFUL').values\n",
        "# Split the preprocessed data into a training and testing dataset\n",
        "#  YOUR CODE GOES HERE\n",
        "X_train, X_test, y_train, y_test = train_test_split(X, y,random_state=1,stratify=y,test_size=.2)"
      ]
    },
    {
      "cell_type": "code",
      "execution_count": 76,
      "metadata": {
        "id": "5aRkJB7j1fVf"
      },
      "outputs": [],
      "source": [
        "# Create a StandardScaler instances\n",
        "scaler = StandardScaler()\n",
        "\n",
        "# Fit the StandardScaler\n",
        "X_scaler = scaler.fit(X_train)\n",
        "\n",
        "# Scale the data\n",
        "X_train_scaled = X_scaler.transform(X_train)\n",
        "X_test_scaled = X_scaler.transform(X_test)"
      ]
    },
    {
      "cell_type": "markdown",
      "metadata": {
        "id": "mGCm5FRl1fVf"
      },
      "source": [
        "## Compile, Train and Evaluate the Model"
      ]
    },
    {
      "cell_type": "code",
      "execution_count": 77,
      "metadata": {
        "colab": {
          "base_uri": "https://localhost:8080/"
        },
        "id": "grIxZU2_1fVf",
        "outputId": "cf7d5653-6fe0-49cc-ae4a-011f00073280"
      },
      "outputs": [
        {
          "output_type": "stream",
          "name": "stdout",
          "text": [
            "Model: \"sequential_5\"\n",
            "_________________________________________________________________\n",
            " Layer (type)                Output Shape              Param #   \n",
            "=================================================================\n",
            " dense_14 (Dense)            (None, 50)                3350      \n",
            "                                                                 \n",
            " dense_15 (Dense)            (None, 50)                2550      \n",
            "                                                                 \n",
            " dense_16 (Dense)            (None, 1)                 51        \n",
            "                                                                 \n",
            "=================================================================\n",
            "Total params: 5,951\n",
            "Trainable params: 5,951\n",
            "Non-trainable params: 0\n",
            "_________________________________________________________________\n"
          ]
        }
      ],
      "source": [
        "# Define the model - deep neural net, i.e., the number of input features and hidden nodes for each layer.\n",
        "#  YOUR CODE GOES HERE\n",
        "l_1 = 50\n",
        "l_2 = 50\n",
        "input_features = len(X_train_scaled[0])\n",
        "nn = tf.keras.models.Sequential()\n",
        "\n",
        "# First hidden layer\n",
        "#  YOUR CODE GOES HERE\n",
        "nn.add(tf.keras.layers.Dense(units=l_1, input_dim = input_features, activation = \"tanh\"))\n",
        "\n",
        "# Second hidden layer\n",
        "#  YOUR CODE GOES HERE\n",
        "nn.add(tf.keras.layers.Dense(units=l_2, activation = \"LeakyReLU\"))\n",
        "\n",
        "# Output layer\n",
        "#  YOUR CODE GOES HERE\n",
        "nn.add(tf.keras.layers.Dense(units=1, activation=\"sigmoid\"))\n",
        "\n",
        "# Check the structure of the model\n",
        "nn.summary()"
      ]
    },
    {
      "cell_type": "code",
      "execution_count": 78,
      "metadata": {
        "id": "nIcp9Uxc1fVf"
      },
      "outputs": [],
      "source": [
        "# Compile the model\n",
        "#  YOUR CODE GOES HERE\n",
        "nn.compile(loss=\"binary_crossentropy\", optimizer=\"adam\", metrics=[\"accuracy\"])"
      ]
    },
    {
      "cell_type": "code",
      "execution_count": 79,
      "metadata": {
        "colab": {
          "base_uri": "https://localhost:8080/"
        },
        "id": "K4HrIw5D1fVg",
        "outputId": "86ffcc16-29ea-4db5-a06c-a3538538a21f"
      },
      "outputs": [
        {
          "output_type": "stream",
          "name": "stdout",
          "text": [
            "Epoch 1/100\n",
            "858/858 [==============================] - 3s 3ms/step - loss: 0.5754 - accuracy: 0.7173\n",
            "Epoch 2/100\n",
            "858/858 [==============================] - 3s 3ms/step - loss: 0.5624 - accuracy: 0.7246\n",
            "Epoch 3/100\n",
            "858/858 [==============================] - 2s 2ms/step - loss: 0.5593 - accuracy: 0.7258\n",
            "Epoch 4/100\n",
            "858/858 [==============================] - 2s 2ms/step - loss: 0.5577 - accuracy: 0.7278\n",
            "Epoch 5/100\n",
            "858/858 [==============================] - 2s 2ms/step - loss: 0.5567 - accuracy: 0.7278\n",
            "Epoch 6/100\n",
            "858/858 [==============================] - 2s 2ms/step - loss: 0.5560 - accuracy: 0.7286\n",
            "Epoch 7/100\n",
            "858/858 [==============================] - 2s 2ms/step - loss: 0.5550 - accuracy: 0.7292\n",
            "Epoch 8/100\n",
            "858/858 [==============================] - 3s 3ms/step - loss: 0.5545 - accuracy: 0.7290\n",
            "Epoch 9/100\n",
            "858/858 [==============================] - 2s 2ms/step - loss: 0.5539 - accuracy: 0.7291\n",
            "Epoch 10/100\n",
            "858/858 [==============================] - 2s 2ms/step - loss: 0.5534 - accuracy: 0.7301\n",
            "Epoch 11/100\n",
            "858/858 [==============================] - 2s 2ms/step - loss: 0.5527 - accuracy: 0.7306\n",
            "Epoch 12/100\n",
            "858/858 [==============================] - 2s 2ms/step - loss: 0.5529 - accuracy: 0.7314\n",
            "Epoch 13/100\n",
            "858/858 [==============================] - 2s 3ms/step - loss: 0.5522 - accuracy: 0.7310\n",
            "Epoch 14/100\n",
            "858/858 [==============================] - 3s 3ms/step - loss: 0.5519 - accuracy: 0.7300\n",
            "Epoch 15/100\n",
            "858/858 [==============================] - 2s 2ms/step - loss: 0.5514 - accuracy: 0.7311\n",
            "Epoch 16/100\n",
            "858/858 [==============================] - 2s 3ms/step - loss: 0.5508 - accuracy: 0.7301\n",
            "Epoch 17/100\n",
            "858/858 [==============================] - 2s 2ms/step - loss: 0.5511 - accuracy: 0.7319\n",
            "Epoch 18/100\n",
            "858/858 [==============================] - 2s 2ms/step - loss: 0.5508 - accuracy: 0.7316\n",
            "Epoch 19/100\n",
            "858/858 [==============================] - 2s 2ms/step - loss: 0.5508 - accuracy: 0.7302\n",
            "Epoch 20/100\n",
            "858/858 [==============================] - 3s 3ms/step - loss: 0.5503 - accuracy: 0.7315\n",
            "Epoch 21/100\n",
            "858/858 [==============================] - 2s 2ms/step - loss: 0.5503 - accuracy: 0.7303\n",
            "Epoch 22/100\n",
            "858/858 [==============================] - 2s 2ms/step - loss: 0.5497 - accuracy: 0.7319\n",
            "Epoch 23/100\n",
            "858/858 [==============================] - 2s 2ms/step - loss: 0.5500 - accuracy: 0.7307\n",
            "Epoch 24/100\n",
            "858/858 [==============================] - 2s 2ms/step - loss: 0.5491 - accuracy: 0.7306\n",
            "Epoch 25/100\n",
            "858/858 [==============================] - 2s 2ms/step - loss: 0.5488 - accuracy: 0.7318\n",
            "Epoch 26/100\n",
            "858/858 [==============================] - 3s 3ms/step - loss: 0.5491 - accuracy: 0.7310\n",
            "Epoch 27/100\n",
            "858/858 [==============================] - 2s 2ms/step - loss: 0.5485 - accuracy: 0.7322\n",
            "Epoch 28/100\n",
            "858/858 [==============================] - 2s 2ms/step - loss: 0.5484 - accuracy: 0.7332\n",
            "Epoch 29/100\n",
            "858/858 [==============================] - 2s 2ms/step - loss: 0.5479 - accuracy: 0.7328\n",
            "Epoch 30/100\n",
            "858/858 [==============================] - 2s 2ms/step - loss: 0.5486 - accuracy: 0.7326\n",
            "Epoch 31/100\n",
            "858/858 [==============================] - 2s 2ms/step - loss: 0.5479 - accuracy: 0.7323\n",
            "Epoch 32/100\n",
            "858/858 [==============================] - 4s 5ms/step - loss: 0.5475 - accuracy: 0.7321\n",
            "Epoch 33/100\n",
            "858/858 [==============================] - 2s 2ms/step - loss: 0.5473 - accuracy: 0.7322\n",
            "Epoch 34/100\n",
            "858/858 [==============================] - 2s 2ms/step - loss: 0.5478 - accuracy: 0.7326\n",
            "Epoch 35/100\n",
            "858/858 [==============================] - 2s 2ms/step - loss: 0.5466 - accuracy: 0.7339\n",
            "Epoch 36/100\n",
            "858/858 [==============================] - 2s 2ms/step - loss: 0.5471 - accuracy: 0.7330\n",
            "Epoch 37/100\n",
            "858/858 [==============================] - 2s 2ms/step - loss: 0.5471 - accuracy: 0.7332\n",
            "Epoch 38/100\n",
            "858/858 [==============================] - 3s 3ms/step - loss: 0.5470 - accuracy: 0.7335\n",
            "Epoch 39/100\n",
            "858/858 [==============================] - 2s 2ms/step - loss: 0.5471 - accuracy: 0.7319\n",
            "Epoch 40/100\n",
            "858/858 [==============================] - 2s 2ms/step - loss: 0.5465 - accuracy: 0.7335\n",
            "Epoch 41/100\n",
            "858/858 [==============================] - 2s 2ms/step - loss: 0.5469 - accuracy: 0.7344\n",
            "Epoch 42/100\n",
            "858/858 [==============================] - 2s 2ms/step - loss: 0.5469 - accuracy: 0.7330\n",
            "Epoch 43/100\n",
            "858/858 [==============================] - 2s 2ms/step - loss: 0.5464 - accuracy: 0.7333\n",
            "Epoch 44/100\n",
            "858/858 [==============================] - 2s 3ms/step - loss: 0.5467 - accuracy: 0.7340\n",
            "Epoch 45/100\n",
            "858/858 [==============================] - 2s 3ms/step - loss: 0.5460 - accuracy: 0.7335\n",
            "Epoch 46/100\n",
            "858/858 [==============================] - 2s 2ms/step - loss: 0.5462 - accuracy: 0.7328\n",
            "Epoch 47/100\n",
            "858/858 [==============================] - 2s 2ms/step - loss: 0.5462 - accuracy: 0.7336\n",
            "Epoch 48/100\n",
            "858/858 [==============================] - 2s 2ms/step - loss: 0.5462 - accuracy: 0.7333\n",
            "Epoch 49/100\n",
            "858/858 [==============================] - 2s 2ms/step - loss: 0.5457 - accuracy: 0.7332\n",
            "Epoch 50/100\n",
            "858/858 [==============================] - 2s 3ms/step - loss: 0.5460 - accuracy: 0.7337\n",
            "Epoch 51/100\n",
            "858/858 [==============================] - 3s 3ms/step - loss: 0.5456 - accuracy: 0.7341\n",
            "Epoch 52/100\n",
            "858/858 [==============================] - 2s 2ms/step - loss: 0.5461 - accuracy: 0.7347\n",
            "Epoch 53/100\n",
            "858/858 [==============================] - 2s 2ms/step - loss: 0.5458 - accuracy: 0.7335\n",
            "Epoch 54/100\n",
            "858/858 [==============================] - 2s 3ms/step - loss: 0.5455 - accuracy: 0.7341\n",
            "Epoch 55/100\n",
            "858/858 [==============================] - 3s 3ms/step - loss: 0.5449 - accuracy: 0.7332\n",
            "Epoch 56/100\n",
            "858/858 [==============================] - 2s 3ms/step - loss: 0.5451 - accuracy: 0.7345\n",
            "Epoch 57/100\n",
            "858/858 [==============================] - 2s 3ms/step - loss: 0.5454 - accuracy: 0.7344\n",
            "Epoch 58/100\n",
            "858/858 [==============================] - 2s 2ms/step - loss: 0.5447 - accuracy: 0.7352\n",
            "Epoch 59/100\n",
            "858/858 [==============================] - 2s 2ms/step - loss: 0.5447 - accuracy: 0.7348\n",
            "Epoch 60/100\n",
            "858/858 [==============================] - 2s 2ms/step - loss: 0.5448 - accuracy: 0.7342\n",
            "Epoch 61/100\n",
            "858/858 [==============================] - 2s 2ms/step - loss: 0.5452 - accuracy: 0.7350\n",
            "Epoch 62/100\n",
            "858/858 [==============================] - 2s 2ms/step - loss: 0.5447 - accuracy: 0.7330\n",
            "Epoch 63/100\n",
            "858/858 [==============================] - 3s 3ms/step - loss: 0.5446 - accuracy: 0.7355\n",
            "Epoch 64/100\n",
            "858/858 [==============================] - 2s 2ms/step - loss: 0.5445 - accuracy: 0.7352\n",
            "Epoch 65/100\n",
            "858/858 [==============================] - 2s 2ms/step - loss: 0.5444 - accuracy: 0.7352\n",
            "Epoch 66/100\n",
            "858/858 [==============================] - 2s 2ms/step - loss: 0.5443 - accuracy: 0.7353\n",
            "Epoch 67/100\n",
            "858/858 [==============================] - 2s 2ms/step - loss: 0.5445 - accuracy: 0.7354\n",
            "Epoch 68/100\n",
            "858/858 [==============================] - 2s 2ms/step - loss: 0.5440 - accuracy: 0.7353\n",
            "Epoch 69/100\n",
            "858/858 [==============================] - 2s 3ms/step - loss: 0.5444 - accuracy: 0.7341\n",
            "Epoch 70/100\n",
            "858/858 [==============================] - 2s 3ms/step - loss: 0.5441 - accuracy: 0.7341\n",
            "Epoch 71/100\n",
            "858/858 [==============================] - 2s 2ms/step - loss: 0.5440 - accuracy: 0.7344\n",
            "Epoch 72/100\n",
            "858/858 [==============================] - 2s 2ms/step - loss: 0.5441 - accuracy: 0.7352\n",
            "Epoch 73/100\n",
            "858/858 [==============================] - 2s 2ms/step - loss: 0.5435 - accuracy: 0.7352\n",
            "Epoch 74/100\n",
            "858/858 [==============================] - 2s 2ms/step - loss: 0.5437 - accuracy: 0.7353\n",
            "Epoch 75/100\n",
            "858/858 [==============================] - 2s 2ms/step - loss: 0.5439 - accuracy: 0.7344\n",
            "Epoch 76/100\n",
            "858/858 [==============================] - 3s 3ms/step - loss: 0.5434 - accuracy: 0.7354\n",
            "Epoch 77/100\n",
            "858/858 [==============================] - 2s 2ms/step - loss: 0.5439 - accuracy: 0.7352\n",
            "Epoch 78/100\n",
            "858/858 [==============================] - 2s 2ms/step - loss: 0.5435 - accuracy: 0.7343\n",
            "Epoch 79/100\n",
            "858/858 [==============================] - 2s 2ms/step - loss: 0.5436 - accuracy: 0.7342\n",
            "Epoch 80/100\n",
            "858/858 [==============================] - 2s 2ms/step - loss: 0.5434 - accuracy: 0.7356\n",
            "Epoch 81/100\n",
            "858/858 [==============================] - 2s 2ms/step - loss: 0.5437 - accuracy: 0.7346\n",
            "Epoch 82/100\n",
            "858/858 [==============================] - 3s 3ms/step - loss: 0.5433 - accuracy: 0.7359\n",
            "Epoch 83/100\n",
            "858/858 [==============================] - 2s 2ms/step - loss: 0.5431 - accuracy: 0.7362\n",
            "Epoch 84/100\n",
            "858/858 [==============================] - 2s 2ms/step - loss: 0.5432 - accuracy: 0.7347\n",
            "Epoch 85/100\n",
            "858/858 [==============================] - 2s 2ms/step - loss: 0.5434 - accuracy: 0.7353\n",
            "Epoch 86/100\n",
            "858/858 [==============================] - 2s 2ms/step - loss: 0.5431 - accuracy: 0.7356\n",
            "Epoch 87/100\n",
            "858/858 [==============================] - 2s 2ms/step - loss: 0.5434 - accuracy: 0.7360\n",
            "Epoch 88/100\n",
            "858/858 [==============================] - 2s 3ms/step - loss: 0.5428 - accuracy: 0.7364\n",
            "Epoch 89/100\n",
            "858/858 [==============================] - 2s 3ms/step - loss: 0.5427 - accuracy: 0.7360\n",
            "Epoch 90/100\n",
            "858/858 [==============================] - 2s 2ms/step - loss: 0.5430 - accuracy: 0.7352\n",
            "Epoch 91/100\n",
            "858/858 [==============================] - 2s 2ms/step - loss: 0.5431 - accuracy: 0.7354\n",
            "Epoch 92/100\n",
            "858/858 [==============================] - 2s 2ms/step - loss: 0.5428 - accuracy: 0.7354\n",
            "Epoch 93/100\n",
            "858/858 [==============================] - 2s 2ms/step - loss: 0.5429 - accuracy: 0.7357\n",
            "Epoch 94/100\n",
            "858/858 [==============================] - 2s 3ms/step - loss: 0.5426 - accuracy: 0.7361\n",
            "Epoch 95/100\n",
            "858/858 [==============================] - 3s 3ms/step - loss: 0.5425 - accuracy: 0.7371\n",
            "Epoch 96/100\n",
            "858/858 [==============================] - 2s 2ms/step - loss: 0.5425 - accuracy: 0.7361\n",
            "Epoch 97/100\n",
            "858/858 [==============================] - 2s 2ms/step - loss: 0.5421 - accuracy: 0.7375\n",
            "Epoch 98/100\n",
            "858/858 [==============================] - 2s 2ms/step - loss: 0.5424 - accuracy: 0.7358\n",
            "Epoch 99/100\n",
            "858/858 [==============================] - 2s 2ms/step - loss: 0.5422 - accuracy: 0.7359\n",
            "Epoch 100/100\n",
            "858/858 [==============================] - 2s 2ms/step - loss: 0.5423 - accuracy: 0.7360\n"
          ]
        },
        {
          "output_type": "execute_result",
          "data": {
            "text/plain": [
              "<keras.callbacks.History at 0x7d26165cbc70>"
            ]
          },
          "metadata": {},
          "execution_count": 79
        }
      ],
      "source": [
        "# Train the model\n",
        "#  YOUR CODE GOES HERE\n",
        "nn.fit(X_train_scaled, y_train, epochs=100)"
      ]
    },
    {
      "cell_type": "code",
      "execution_count": 47,
      "metadata": {
        "colab": {
          "base_uri": "https://localhost:8080/"
        },
        "id": "rh5GfUmf1fVg",
        "outputId": "754caba5-23e9-4f67-e1bc-6123c1ffe7fe"
      },
      "outputs": [
        {
          "output_type": "stream",
          "name": "stdout",
          "text": [
            "215/215 - 1s - loss: 0.5493 - accuracy: 0.7378 - 653ms/epoch - 3ms/step\n",
            "Loss: 0.5493119955062866, Accuracy: 0.7377551198005676\n"
          ]
        }
      ],
      "source": [
        "# Evaluate the model using the test data\n",
        "model_loss, model_accuracy = nn.evaluate(X_test_scaled,y_test,verbose=2)\n",
        "print(f\"Loss: {model_loss}, Accuracy: {model_accuracy}\")"
      ]
    },
    {
      "cell_type": "code",
      "execution_count": 57,
      "metadata": {
        "id": "U4gwyncc1fVg"
      },
      "outputs": [],
      "source": [
        "# Export our model to HDF5 file\n",
        "#  YOUR CODE GOES HERE\n",
        "nn.save('path/to/model.h5')"
      ]
    }
  ],
  "metadata": {
    "kernelspec": {
      "display_name": "Python 3",
      "language": "python",
      "name": "python3"
    },
    "language_info": {
      "codemirror_mode": {
        "name": "ipython",
        "version": 3
      },
      "file_extension": ".py",
      "mimetype": "text/x-python",
      "name": "python",
      "nbconvert_exporter": "python",
      "pygments_lexer": "ipython3",
      "version": "3.-1.-1"
    },
    "vscode": {
      "interpreter": {
        "hash": "31f2aee4e71d21fbe5cf8b01ff0e069b9275f58929596ceb00d14d90e3e16cd6"
      }
    },
    "colab": {
      "provenance": []
    }
  },
  "nbformat": 4,
  "nbformat_minor": 0
}